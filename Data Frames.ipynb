{
  "nbformat": 4,
  "nbformat_minor": 0,
  "metadata": {
    "colab": {
      "provenance": []
    },
    "kernelspec": {
      "name": "python3",
      "display_name": "Python 3"
    },
    "language_info": {
      "name": "python"
    }
  },
  "cells": [
    {
      "cell_type": "markdown",
      "source": [
        "Import modules"
      ],
      "metadata": {
        "id": "eBCgfBjcxCKv"
      }
    },
    {
      "cell_type": "code",
      "source": [
        "import numpy as np\n",
        "import pandas as pd\n",
        "import matplotlib.pyplot as plt"
      ],
      "metadata": {
        "id": "l6O-1d3hw4t6"
      },
      "execution_count": 2,
      "outputs": []
    },
    {
      "cell_type": "code",
      "source": [
        "import os\n",
        "os.chdir('/content/drive/MyDrive/machine_learning/homework')\n",
        "!pwd\n",
        "!ls"
      ],
      "metadata": {
        "colab": {
          "base_uri": "https://localhost:8080/"
        },
        "id": "nbqWRgsQyx6Q",
        "outputId": "8e3f94af-a23a-4956-8d7a-0740277736be"
      },
      "execution_count": 3,
      "outputs": [
        {
          "output_type": "stream",
          "name": "stdout",
          "text": [
            "/content/drive/MyDrive/machine_learning/homework\n",
            "fig.png  hba1c_bloodGlucose.dat.txt\n"
          ]
        }
      ]
    },
    {
      "cell_type": "markdown",
      "source": [
        "Read in the dataframe with pandas"
      ],
      "metadata": {
        "id": "KEUCnR6OxK8M"
      }
    },
    {
      "cell_type": "code",
      "source": [
        "df = pd.read_csv('hba1c_bloodGlucose.dat.txt', skiprows=30, sep='\\s+')"
      ],
      "metadata": {
        "id": "-cTeLPuZxSvl"
      },
      "execution_count": 4,
      "outputs": []
    },
    {
      "cell_type": "markdown",
      "source": [
        "Check the output"
      ],
      "metadata": {
        "id": "_SbXMPV90zVT"
      }
    },
    {
      "cell_type": "code",
      "source": [
        "dfvalues = df.values\n",
        "print(np.shape(df))\n",
        "hba1c = df['hba1c']\n",
        "rbg = df['rbg']\n"
      ],
      "metadata": {
        "id": "zq1gLCDc0yPX",
        "colab": {
          "base_uri": "https://localhost:8080/"
        },
        "outputId": "804fd49d-c226-40c7-ab79-8a9091f98411"
      },
      "execution_count": 9,
      "outputs": [
        {
          "output_type": "stream",
          "name": "stdout",
          "text": [
            "(349, 2)\n"
          ]
        }
      ]
    },
    {
      "cell_type": "code",
      "source": [
        "\n",
        "def sub_divide(x):\n",
        "  print('initial x :', x)\n",
        "  x = x-2\n",
        "  print('x-2 :', x)\n",
        "  print('x/2 :', x/2)\n",
        "  print('x/4:', x/4, '\\n')\n",
        "\n",
        "row = -10\n",
        "for v in hba1c[::10]:\n",
        "  row += 10\n",
        "  print('row :', row)\n",
        "  sub_divide(v)\n"
      ],
      "metadata": {
        "colab": {
          "base_uri": "https://localhost:8080/"
        },
        "id": "fdAK_fKH1EzF",
        "outputId": "40c9ff06-710b-429c-8a55-0617cf1852ae"
      },
      "execution_count": 11,
      "outputs": [
        {
          "output_type": "stream",
          "name": "stdout",
          "text": [
            "row : 0\n",
            "initial x : 3.4899210065\n",
            "x-2 : 1.4899210065\n",
            "x/2 : 0.74496050325\n",
            "x/4: 0.372480251625 \n",
            "\n",
            "row : 10\n",
            "initial x : 5.2762140538\n",
            "x-2 : 3.2762140538000004\n",
            "x/2 : 1.6381070269000002\n",
            "x/4: 0.8190535134500001 \n",
            "\n",
            "row : 20\n",
            "initial x : 5.5838401234\n",
            "x-2 : 3.5838401234\n",
            "x/2 : 1.7919200617\n",
            "x/4: 0.89596003085 \n",
            "\n",
            "row : 30\n",
            "initial x : 5.8615431534\n",
            "x-2 : 3.8615431534000004\n",
            "x/2 : 1.9307715767000002\n",
            "x/4: 0.9653857883500001 \n",
            "\n",
            "row : 40\n",
            "initial x : 6.0069246363\n",
            "x-2 : 4.0069246363\n",
            "x/2 : 2.00346231815\n",
            "x/4: 1.001731159075 \n",
            "\n",
            "row : 50\n",
            "initial x : 6.2420273996\n",
            "x-2 : 4.2420273996\n",
            "x/2 : 2.1210136998\n",
            "x/4: 1.0605068499 \n",
            "\n",
            "row : 60\n",
            "initial x : 6.4042719863\n",
            "x-2 : 4.4042719863\n",
            "x/2 : 2.20213599315\n",
            "x/4: 1.101067996575 \n",
            "\n",
            "row : 70\n",
            "initial x : 6.5049722237\n",
            "x-2 : 4.5049722237\n",
            "x/2 : 2.25248611185\n",
            "x/4: 1.126243055925 \n",
            "\n",
            "row : 80\n",
            "initial x : 6.7273260021\n",
            "x-2 : 4.7273260021\n",
            "x/2 : 2.36366300105\n",
            "x/4: 1.181831500525 \n",
            "\n",
            "row : 90\n",
            "initial x : 6.9008126581\n",
            "x-2 : 4.9008126581\n",
            "x/2 : 2.45040632905\n",
            "x/4: 1.225203164525 \n",
            "\n",
            "row : 100\n",
            "initial x : 7.0912820145\n",
            "x-2 : 5.0912820145\n",
            "x/2 : 2.54564100725\n",
            "x/4: 1.272820503625 \n",
            "\n",
            "row : 110\n",
            "initial x : 7.3556619964\n",
            "x-2 : 5.3556619964\n",
            "x/2 : 2.6778309982\n",
            "x/4: 1.3389154991 \n",
            "\n",
            "row : 120\n",
            "initial x : 7.4308403447\n",
            "x-2 : 5.4308403447\n",
            "x/2 : 2.71542017235\n",
            "x/4: 1.357710086175 \n",
            "\n",
            "row : 130\n",
            "initial x : 7.8689461756\n",
            "x-2 : 5.8689461756\n",
            "x/2 : 2.9344730878\n",
            "x/4: 1.4672365439 \n",
            "\n",
            "row : 140\n",
            "initial x : 8.0030855892\n",
            "x-2 : 6.0030855891999995\n",
            "x/2 : 3.0015427945999997\n",
            "x/4: 1.5007713972999999 \n",
            "\n",
            "row : 150\n",
            "initial x : 8.1625794569\n",
            "x-2 : 6.1625794569\n",
            "x/2 : 3.08128972845\n",
            "x/4: 1.540644864225 \n",
            "\n",
            "row : 160\n",
            "initial x : 8.408972128\n",
            "x-2 : 6.408972128\n",
            "x/2 : 3.204486064\n",
            "x/4: 1.602243032 \n",
            "\n",
            "row : 170\n",
            "initial x : 8.558395972\n",
            "x-2 : 6.558395972\n",
            "x/2 : 3.279197986\n",
            "x/4: 1.639598993 \n",
            "\n",
            "row : 180\n",
            "initial x : 8.8194033332\n",
            "x-2 : 6.8194033332\n",
            "x/2 : 3.4097016666\n",
            "x/4: 1.7048508333 \n",
            "\n",
            "row : 190\n",
            "initial x : 9.0867732271\n",
            "x-2 : 7.0867732271\n",
            "x/2 : 3.54338661355\n",
            "x/4: 1.771693306775 \n",
            "\n",
            "row : 200\n",
            "initial x : 9.4649851401\n",
            "x-2 : 7.4649851401\n",
            "x/2 : 3.73249257005\n",
            "x/4: 1.866246285025 \n",
            "\n",
            "row : 210\n",
            "initial x : 9.6856645677\n",
            "x-2 : 7.6856645677\n",
            "x/2 : 3.84283228385\n",
            "x/4: 1.921416141925 \n",
            "\n",
            "row : 220\n",
            "initial x : 9.8591990624\n",
            "x-2 : 7.8591990624\n",
            "x/2 : 3.9295995312\n",
            "x/4: 1.9647997656 \n",
            "\n",
            "row : 230\n",
            "initial x : 10.0921251697\n",
            "x-2 : 8.0921251697\n",
            "x/2 : 4.04606258485\n",
            "x/4: 2.023031292425 \n",
            "\n",
            "row : 240\n",
            "initial x : 10.3270604979\n",
            "x-2 : 8.3270604979\n",
            "x/2 : 4.16353024895\n",
            "x/4: 2.081765124475 \n",
            "\n",
            "row : 250\n",
            "initial x : 11.0040005023\n",
            "x-2 : 9.0040005023\n",
            "x/2 : 4.50200025115\n",
            "x/4: 2.251000125575 \n",
            "\n",
            "row : 260\n",
            "initial x : 11.3086366599\n",
            "x-2 : 9.3086366599\n",
            "x/2 : 4.65431832995\n",
            "x/4: 2.327159164975 \n",
            "\n",
            "row : 270\n",
            "initial x : 11.8953530787\n",
            "x-2 : 9.8953530787\n",
            "x/2 : 4.94767653935\n",
            "x/4: 2.473838269675 \n",
            "\n",
            "row : 280\n",
            "initial x : 12.0885253156\n",
            "x-2 : 10.0885253156\n",
            "x/2 : 5.0442626578\n",
            "x/4: 2.5221313289 \n",
            "\n",
            "row : 290\n",
            "initial x : 12.4523138929\n",
            "x-2 : 10.4523138929\n",
            "x/2 : 5.22615694645\n",
            "x/4: 2.613078473225 \n",
            "\n",
            "row : 300\n",
            "initial x : 13.1264314204\n",
            "x-2 : 11.1264314204\n",
            "x/2 : 5.5632157102\n",
            "x/4: 2.7816078551 \n",
            "\n",
            "row : 310\n",
            "initial x : 13.8297783279\n",
            "x-2 : 11.8297783279\n",
            "x/2 : 5.91488916395\n",
            "x/4: 2.957444581975 \n",
            "\n",
            "row : 320\n",
            "initial x : 14.9124374361\n",
            "x-2 : 12.9124374361\n",
            "x/2 : 6.45621871805\n",
            "x/4: 3.228109359025 \n",
            "\n",
            "row : 330\n",
            "initial x : 15.7139730549\n",
            "x-2 : 13.7139730549\n",
            "x/2 : 6.85698652745\n",
            "x/4: 3.428493263725 \n",
            "\n",
            "row : 340\n",
            "initial x : 17.5203343918\n",
            "x-2 : 15.520334391799999\n",
            "x/2 : 7.760167195899999\n",
            "x/4: 3.8800835979499997 \n",
            "\n"
          ]
        }
      ]
    },
    {
      "cell_type": "code",
      "source": [
        "plt.rcParams['font.size'] = 12\n",
        "\n",
        "fig, ax = plt.subplots(figsize=(10, 7))\n",
        "\n",
        "ax.scatter(hba1c, rbg, s=50, c= 'grey', marker= '.')\n",
        "ax.set_xlabel('rbg (mmol/l)', fontsize=14)\n",
        "ax.set_ylabel('hbac1 (DCCT percentages)', fontsize=14)\n",
        "ax.set_title('Glycosylated Hemoglobin vs. Random Blood Glucose')\n",
        "ax.title.set_size(20)\n",
        "ax.legend(['349 Diabetic Patients'], loc = 'lower right')\n",
        "plt.show()\n",
        "fig.savefig('fig.png', bbox_inches='tight')"
      ],
      "metadata": {
        "colab": {
          "base_uri": "https://localhost:8080/",
          "height": 658
        },
        "id": "98S7gcsHHBWQ",
        "outputId": "89f241fd-8070-4dc2-fb78-615a6cdcb195"
      },
      "execution_count": null,
      "outputs": [
        {
          "output_type": "display_data",
          "data": {
            "text/plain": [
              "<Figure size 1000x700 with 1 Axes>"
            ],
            "image/png": "[encoded data removed]"
          },
          "metadata": {}
        }
      ]
    },
    {
      "cell_type": "code",
      "source": [],
      "metadata": {
        "id": "e-Svr9844M1I"
      },
      "execution_count": null,
      "outputs": []
    }
  ]
}
